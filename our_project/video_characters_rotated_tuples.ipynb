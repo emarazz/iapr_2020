{
 "cells": [
  {
   "cell_type": "code",
   "execution_count": 3,
   "metadata": {},
   "outputs": [],
   "source": [
    "import numpy as np\n",
    "from PIL import Image\n",
    "import glob\n",
    "import matplotlib.pyplot as plt"
   ]
  },
  {
   "cell_type": "code",
   "execution_count": 106,
   "metadata": {},
   "outputs": [],
   "source": [
    "from skimage.transform import rotate\n",
    "\n",
    "img_names = [img for img in glob.glob(\"boxes_for_testing/*\")]\n",
    "img_names.sort() # alphabetical sorting\n",
    "images = []\n",
    "\n",
    "for name in img_names:\n",
    "    images.append(np.asarray(Image.open(name)))\n",
    "    \n",
    "labels = [12, 6, 2, 6, 13, 1, 2, 11, 9, 1]\n",
    "# plus = 9\n",
    "# minus = 10\n",
    "# multiplication = 11\n",
    "# division = 12\n",
    "# equal = 13\n",
    "    \n",
    "tuples = list(zip(images, labels))\n",
    "test_set = tuples[:]\n",
    "\n",
    "deg_diff = 10\n",
    "deg = 0\n",
    "for i in range(deg_diff, 360, deg_diff):\n",
    "    test_set += [(Image.fromarray(np.uint8(rotate(image, i)*255)), label) for (image, label) in tuples]"
   ]
  },
  {
   "cell_type": "code",
   "execution_count": 112,
   "metadata": {},
   "outputs": [
    {
     "data": {
      "text/plain": [
       "<matplotlib.image.AxesImage at 0x165882100>"
      ]
     },
     "execution_count": 112,
     "metadata": {},
     "output_type": "execute_result"
    },
    {
     "data": {
      "image/png": "[encoded data removed]",
      "text/plain": [
       "<Figure size 432x288 with 1 Axes>"
      ]
     },
     "metadata": {
      "needs_background": "light"
     },
     "output_type": "display_data"
    }
   ],
   "source": [
    "plt.imshow(test_set[232][0], cmap='gray')"
   ]
  },
  {
   "cell_type": "code",
   "execution_count": 119,
   "metadata": {},
   "outputs": [],
   "source": [
    "import torch\n",
    "\n",
    "torch.save(test_set, 'video_characters_rotated_tuples.pt')"
   ]
  }
 ],
 "metadata": {
  "kernelspec": {
   "display_name": "Python 3",
   "language": "python",
   "name": "python3"
  },
  "language_info": {
   "codemirror_mode": {
    "name": "ipython",
    "version": 3
   },
   "file_extension": ".py",
   "mimetype": "text/x-python",
   "name": "python",
   "nbconvert_exporter": "python",
   "pygments_lexer": "ipython3",
   "version": "3.8.2"
  }
 },
 "nbformat": 4,
 "nbformat_minor": 4
}
