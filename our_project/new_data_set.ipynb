{
 "cells": [
  {
   "cell_type": "code",
   "execution_count": 1,
   "metadata": {},
   "outputs": [],
   "source": [
    "from PIL import Image\n",
    "from PIL import ImageOps\n",
    "import numpy as np\n",
    "import tarfile\n",
    "import os\n",
    "import random\n",
    "\n",
    "import torch\n",
    "from torch.utils.data import TensorDataset\n",
    "from torchvision import transforms"
   ]
  },
  {
   "cell_type": "code",
   "execution_count": 2,
   "metadata": {},
   "outputs": [],
   "source": [
    "data_base_path = os.path.join(os.pardir, 'data')\n",
    "data_folder = 'lab-03-data'\n",
    "tar_path = os.path.join(data_base_path, data_folder + '.tar.gz')\n",
    "with tarfile.open(tar_path, mode='r:gz') as tar:\n",
    "    tar.extractall(path=data_base_path)"
   ]
  },
  {
   "cell_type": "code",
   "execution_count": 3,
   "metadata": {},
   "outputs": [],
   "source": [
    "import gzip\n",
    "import numpy as np\n",
    "import matplotlib.pyplot as plt\n",
    "\n",
    "def extract_data(filename, image_shape, image_number):\n",
    "    with gzip.open(filename) as bytestream:\n",
    "        bytestream.read(16)\n",
    "        buf = bytestream.read(np.prod(image_shape) * image_number)\n",
    "        data = np.frombuffer(buf, dtype=np.uint8)#.astype(np.float32)\n",
    "        data = data.reshape(image_number, image_shape[0], image_shape[1])\n",
    "    return data\n",
    "\n",
    "\n",
    "def extract_labels(filename, image_number):\n",
    "    with gzip.open(filename) as bytestream:\n",
    "        bytestream.read(8)\n",
    "        buf = bytestream.read(1 * image_number)\n",
    "        labels = np.frombuffer(buf, dtype=np.uint8).astype(np.uint8)\n",
    "    return labels"
   ]
  },
  {
   "cell_type": "code",
   "execution_count": 4,
   "metadata": {},
   "outputs": [],
   "source": [
    "image_shape = (28, 28)\n",
    "train_set_size = 60000\n",
    "test_set_size = 10000\n",
    "\n",
    "data_part2_folder = os.path.join(data_base_path, data_folder, 'part2')\n",
    "\n",
    "train_images_path = os.path.join(data_part2_folder, 'train-images-idx3-ubyte.gz')\n",
    "train_labels_path = os.path.join(data_part2_folder, 'train-labels-idx1-ubyte.gz')\n",
    "test_images_path = os.path.join(data_part2_folder, 't10k-images-idx3-ubyte.gz')\n",
    "test_labels_path = os.path.join(data_part2_folder, 't10k-labels-idx1-ubyte.gz')\n",
    "\n",
    "train_images = extract_data(train_images_path, image_shape, train_set_size) \n",
    "test_images = extract_data(test_images_path, image_shape, test_set_size)\n",
    "train_labels = extract_labels(train_labels_path, train_set_size)\n",
    "test_labels = extract_labels(test_labels_path, test_set_size)\n",
    "\n",
    "\n",
    "# # Divide by 255.\n",
    "# train_images = train_images / 255.\n",
    "# test_images = test_images / 255.\n",
    "\n",
    "# # Select only 10000\n",
    "# train_images = train_images[:60000]\n",
    "# train_labels = train_labels[:60000]\n",
    "# test_images = test_images[:10000]\n",
    "# test_labels = test_labels[:10000]\n",
    "\n",
    "# # Preprocessing\n",
    "# train_images_p = preprocess_images(train_images[:10000])\n",
    "# test_images_p = preprocess_images(test_images)"
   ]
  },
  {
   "cell_type": "code",
   "execution_count": 5,
   "metadata": {},
   "outputs": [],
   "source": [
    "train_original, test_original = list(zip(train_images, train_labels)), list(zip(test_images, test_labels))"
   ]
  },
  {
   "cell_type": "code",
   "execution_count": 6,
   "metadata": {},
   "outputs": [
    {
     "name": "stdout",
     "output_type": "stream",
     "text": [
      "<class 'list'>\n",
      "<class 'tuple'>\n",
      "<class 'numpy.ndarray'>\n",
      "<class 'numpy.uint8'>\n"
     ]
    }
   ],
   "source": [
    "print(type(train_original))\n",
    "print(type(train_original[0]))\n",
    "print(type(train_original[0][0]))\n",
    "print(type(train_original[0][1]))\n",
    "# print(train_original[0])\n",
    "\n"
   ]
  },
  {
   "cell_type": "code",
   "execution_count": 7,
   "metadata": {},
   "outputs": [],
   "source": [
    "PATH = './my_mnist/'"
   ]
  },
  {
   "cell_type": "code",
   "execution_count": 8,
   "metadata": {},
   "outputs": [],
   "source": [
    "new_imgs = []\n",
    "for i in range(92,99,1):\n",
    "    im = Image.open(PATH + 'IMG_00' + str(i) + '.PNG')\n",
    "    im = ImageOps.grayscale(im)\n",
    "    im = ImageOps.invert(im)\n",
    "    im = im.resize((280,280))\n",
    "    im_array = np.array(im)\n",
    "\n",
    "    for i in range(10):\n",
    "        for j in range(10):\n",
    "            new_imgs.append((im_array[28*i:28*(i+1),28*j:28*(j+1)], np.uint8(i)))"
   ]
  },
  {
   "cell_type": "code",
   "execution_count": 9,
   "metadata": {},
   "outputs": [
    {
     "name": "stdout",
     "output_type": "stream",
     "text": [
      "700\n",
      "(28, 28)\n"
     ]
    }
   ],
   "source": [
    "print(len(new_imgs))\n",
    "print(new_imgs[0][0].shape)\n",
    "# new_imgs[0][0].show()\n",
    "# print(new_imgs[0][0].size)\n",
    "\n",
    "# for i in range(380,390):\n",
    "#     Image.fromarray(new_imgs[i][0]).show()"
   ]
  },
  {
   "cell_type": "code",
   "execution_count": 10,
   "metadata": {},
   "outputs": [
    {
     "name": "stdout",
     "output_type": "stream",
     "text": [
      "<class 'list'>\n",
      "<class 'tuple'>\n",
      "<class 'numpy.ndarray'>\n",
      "<class 'numpy.uint8'>\n"
     ]
    }
   ],
   "source": [
    "print(type(new_imgs))\n",
    "print(type(new_imgs[0]))\n",
    "print(type(new_imgs[0][0]))\n",
    "print(type(new_imgs[0][1]))\n",
    "# print(new_imgs[0])\n",
    "\n",
    "\n"
   ]
  },
  {
   "cell_type": "code",
   "execution_count": 11,
   "metadata": {},
   "outputs": [
    {
     "name": "stdout",
     "output_type": "stream",
     "text": [
      "10500\n"
     ]
    }
   ],
   "source": [
    "new_mnist = []\n",
    "for i in range(15):\n",
    "    new_mnist.extend(new_imgs)\n",
    "random.shuffle(new_mnist)\n",
    "    \n",
    "print(len(new_mnist))"
   ]
  },
  {
   "cell_type": "code",
   "execution_count": 12,
   "metadata": {},
   "outputs": [
    {
     "name": "stdout",
     "output_type": "stream",
     "text": [
      "70500\n"
     ]
    }
   ],
   "source": [
    "aug_mnist = []\n",
    "\n",
    "aug_mnist.extend(train_original)\n",
    "aug_mnist.extend(new_mnist)\n",
    "random.shuffle(aug_mnist)\n",
    "random.shuffle(aug_mnist)\n",
    "random.shuffle(aug_mnist)\n",
    "random.shuffle(aug_mnist)\n",
    "\n",
    "print(len(aug_mnist))"
   ]
  },
  {
   "cell_type": "code",
   "execution_count": 13,
   "metadata": {},
   "outputs": [
    {
     "name": "stdout",
     "output_type": "stream",
     "text": [
      "<class 'list'>\n",
      "<class 'numpy.ndarray'>\n",
      "7\n",
      "<class 'list'>\n",
      "<class 'tuple'>\n",
      "<class 'PIL.Image.Image'>\n",
      "7\n"
     ]
    }
   ],
   "source": [
    "aug_train = list(map(list,zip(*aug_mnist)))\n",
    "aug_x_train = np.array(aug_train[0][:])\n",
    "aug_y_train = np.array(aug_train[1][:])\n",
    "\n",
    "aug_x_train = list(map(Image.fromarray, aug_x_train))\n",
    "\n",
    "# aug_x_train, aug_y_train = map(, (aug_x_train, aug_y_train))\n",
    "\n",
    "\n",
    "\n",
    "# aug_x_train = map(transforms.ToPILImage, aug_x_train)\n",
    "\n",
    "\n",
    "\n",
    "print(type(aug_x_train))\n",
    "print(type(aug_y_train))\n",
    "\n",
    "aug_x_train[52].show()\n",
    "print(aug_y_train[52])\n",
    "\n",
    "aug_train = list(zip(aug_x_train, aug_y_train))\n",
    "\n",
    "print(type(aug_train))\n",
    "print(type(aug_train[0]))\n",
    "print(type(aug_train[52][0]))\n",
    "print(aug_train[52][1])\n",
    "\n",
    "\n",
    "\n",
    "\n",
    "\n",
    "# print(aug_x_train[0].shape)\n",
    "# print(aug_y_train.shape)\n",
    "\n",
    "\n",
    "\n",
    "# print(aug_train[0][0:20])\n",
    "# print(aug_train[:20][1])"
   ]
  },
  {
   "cell_type": "code",
   "execution_count": 14,
   "metadata": {},
   "outputs": [],
   "source": [
    "# train_ds = TensorDataset(aug_x_train, aug_y_train)\n",
    "torch.save(aug_train, 'my_nmist_list_tuples.pt')"
   ]
  },
  {
   "cell_type": "code",
   "execution_count": 15,
   "metadata": {},
   "outputs": [],
   "source": [
    "xx = torch.load('my_nmist_list_tuples.pt')"
   ]
  },
  {
   "cell_type": "code",
   "execution_count": 16,
   "metadata": {},
   "outputs": [
    {
     "name": "stdout",
     "output_type": "stream",
     "text": [
      "<class 'numpy.uint8'>\n"
     ]
    }
   ],
   "source": [
    "print(type(xx[0][1]))"
   ]
  },
  {
   "cell_type": "code",
   "execution_count": 17,
   "metadata": {},
   "outputs": [],
   "source": [
    "# listA = [1,2,3]\n",
    "# listB = [4,5,6]\n",
    "# listC = list(zip(listA,listB))\n",
    "# listD = list(map(list,zip(*listC)))\n",
    "\n",
    "# print(listC)\n",
    "# print(listD)\n",
    "# print(listD[1][1:3])\n",
    "# print(listD)"
   ]
  },
  {
   "cell_type": "markdown",
   "metadata": {},
   "source": [
    "# Operators"
   ]
  },
  {
   "cell_type": "code",
   "execution_count": 18,
   "metadata": {},
   "outputs": [],
   "source": [
    "PATH2 = './opearators/IMG_0091.PNG'"
   ]
  },
  {
   "cell_type": "code",
   "execution_count": 19,
   "metadata": {},
   "outputs": [],
   "source": [
    "im2 = Image.open(PATH2)\n",
    "im2 = ImageOps.grayscale(im2)\n",
    "im2 = ImageOps.invert(im2)\n",
    "im2_array = np.array(im2)"
   ]
  },
  {
   "cell_type": "code",
   "execution_count": 20,
   "metadata": {},
   "outputs": [
    {
     "data": {
      "text/plain": [
       "(1736, 316)"
      ]
     },
     "execution_count": 20,
     "metadata": {},
     "output_type": "execute_result"
    }
   ],
   "source": [
    "im2.show()\n",
    "im2.size"
   ]
  },
  {
   "cell_type": "code",
   "execution_count": 21,
   "metadata": {},
   "outputs": [],
   "source": [
    "operators_img = []\n",
    "# for i in range(5):\n",
    "#     operators_img.append(im2_array[:,347*i:347*(i+1)])\n",
    "\n",
    "operators_img.append(im2_array[:,:347*(1)-31])\n",
    "operators_img.append(im2_array[:,347*1:347*(1+1)-31])\n",
    "operators_img.append(im2_array[:,347*2+15:347*(2+1)-16])\n",
    "operators_img.append(im2_array[:,347*3+31:347*4])\n",
    "operators_img.append(im2_array[:,347*4+31:347*5])\n"
   ]
  },
  {
   "cell_type": "code",
   "execution_count": 23,
   "metadata": {},
   "outputs": [
    {
     "name": "stdout",
     "output_type": "stream",
     "text": [
      "5\n",
      "(316, 316)\n",
      "(28, 28) 10\n",
      "(28, 28) 11\n",
      "(28, 28) 12\n",
      "(28, 28) 13\n",
      "(28, 28) 14\n",
      "<class 'list'>\n",
      "<class 'tuple'>\n",
      "<class 'PIL.Image.Image'>\n",
      "<class 'numpy.uint8'>\n"
     ]
    }
   ],
   "source": [
    "print(len(operators_img))\n",
    "print(operators_img[0].shape)\n",
    "\n",
    "op_orig = []\n",
    "\n",
    "for i in range(5):\n",
    "    op_orig.append((Image.fromarray(operators_img[i]).resize((28,28)), np.uint8(i+10)))\n",
    "    print(op_orig[i][0].size, op_orig[i][1] )\n",
    "    \n",
    "\n",
    "print(type(op_orig))\n",
    "print(type(op_orig[0]))\n",
    "print(type(op_orig[0][0]))\n",
    "print(type(op_orig[0][1]))"
   ]
  },
  {
   "cell_type": "code",
   "execution_count": 24,
   "metadata": {},
   "outputs": [
    {
     "name": "stdout",
     "output_type": "stream",
     "text": [
      "1000\n"
     ]
    }
   ],
   "source": [
    "new_op_orig = []\n",
    "for i in range(200):\n",
    "    new_op_orig.extend(op_orig)\n",
    "print(len(new_op_orig))"
   ]
  },
  {
   "cell_type": "code",
   "execution_count": 25,
   "metadata": {},
   "outputs": [],
   "source": [
    "random.shuffle(new_op_orig)\n",
    "random.shuffle(new_op_orig)\n",
    "random.shuffle(new_op_orig)\n",
    "random.shuffle(new_op_orig)\n",
    "random.shuffle(new_op_orig)"
   ]
  },
  {
   "cell_type": "markdown",
   "metadata": {},
   "source": [
    "# Handwritten operators"
   ]
  },
  {
   "cell_type": "code",
   "execution_count": 26,
   "metadata": {},
   "outputs": [],
   "source": [
    "PATH3 = './opearators/IMG_0090.PNG'"
   ]
  },
  {
   "cell_type": "code",
   "execution_count": 27,
   "metadata": {},
   "outputs": [
    {
     "name": "stdout",
     "output_type": "stream",
     "text": [
      "<class 'list'>\n",
      "<class 'tuple'>\n",
      "<class 'PIL.Image.Image'>\n",
      "<class 'numpy.uint8'>\n",
      "100\n"
     ]
    }
   ],
   "source": [
    "new_imgs = []\n",
    "\n",
    "im = Image.open(PATH3)\n",
    "im = ImageOps.grayscale(im)\n",
    "im = ImageOps.invert(im)\n",
    "im = im.resize((280,280))\n",
    "im_array = np.array(im)\n",
    "\n",
    "for i in range(5):\n",
    "    for j in range(10):\n",
    "        new_imgs.append((Image.fromarray(im_array[28*i:28*(i+1),28*j:28*(j+1)]), np.uint8(i+10)))\n",
    "        \n",
    "for i in range(5,10):\n",
    "    for j in range(10):\n",
    "        new_imgs.append((Image.fromarray(im_array[28*i:28*(i+1),28*j:28*(j+1)]), np.uint8(i+5)))\n",
    "        \n",
    "print(type(new_imgs))\n",
    "print(type(new_imgs[0]))\n",
    "print(type(new_imgs[0][0]))\n",
    "print(type(new_imgs[0][1]))\n",
    "print(len(new_imgs))"
   ]
  },
  {
   "cell_type": "code",
   "execution_count": 28,
   "metadata": {},
   "outputs": [
    {
     "name": "stdout",
     "output_type": "stream",
     "text": [
      "1000\n",
      "(28, 28)\n"
     ]
    }
   ],
   "source": [
    "new_op_imgs = []\n",
    "for i in range(10):\n",
    "    new_op_imgs.extend(new_imgs)\n",
    "\n",
    "print(len(new_op_imgs))\n",
    "print(new_op_imgs[0][0].size)\n",
    "\n",
    "\n",
    "# print(len(new_imgs))\n",
    "# print(new_imgs[0][0].shape)\n",
    "# print(new_imgs[0][0].size)\n",
    "\n",
    "# for i in range(40,50):\n",
    "#     Image.fromarray(new_imgs[i][0]).show()\n",
    "#     print(new_imgs[i][1])"
   ]
  },
  {
   "cell_type": "code",
   "execution_count": 29,
   "metadata": {},
   "outputs": [],
   "source": [
    "my_operators = []\n",
    "my_operators.extend(new_op_orig)\n",
    "my_operators.extend(new_imgs)\n",
    "\n",
    "random.shuffle(my_operators)\n",
    "random.shuffle(my_operators)\n",
    "random.shuffle(my_operators)\n",
    "random.shuffle(my_operators)\n",
    "random.shuffle(my_operators)\n",
    "\n"
   ]
  },
  {
   "cell_type": "code",
   "execution_count": null,
   "metadata": {},
   "outputs": [],
   "source": [
    "# torch.save(aug_train, 'my_nmist_list_tuples.pt')"
   ]
  },
  {
   "cell_type": "code",
   "execution_count": 31,
   "metadata": {},
   "outputs": [],
   "source": [
    "new_nmist_plus_op = []\n",
    "new_nmist_plus_op.extend(my_operators)\n",
    "new_nmist_plus_op.extend(aug_train)\n",
    "\n",
    "random.shuffle(new_nmist_plus_op)\n",
    "random.shuffle(new_nmist_plus_op)\n",
    "random.shuffle(new_nmist_plus_op)\n",
    "random.shuffle(new_nmist_plus_op)\n",
    "random.shuffle(new_nmist_plus_op)\n"
   ]
  },
  {
   "cell_type": "code",
   "execution_count": 34,
   "metadata": {},
   "outputs": [
    {
     "name": "stdout",
     "output_type": "stream",
     "text": [
      "71600\n",
      "<class 'list'>\n",
      "<class 'tuple'>\n",
      "<class 'PIL.Image.Image'>\n",
      "<class 'numpy.uint8'>\n"
     ]
    }
   ],
   "source": [
    "print(len(new_nmist_plus_op))\n",
    "print(type(new_nmist_plus_op))\n",
    "print(type(new_nmist_plus_op[0]))\n",
    "print(type(new_nmist_plus_op[0][0]))\n",
    "print(type(new_nmist_plus_op[0][1]))\n",
    "\n",
    "\n"
   ]
  },
  {
   "cell_type": "code",
   "execution_count": 35,
   "metadata": {},
   "outputs": [],
   "source": [
    "torch.save(new_nmist_plus_op, 'my_nmist_plus_op_list_tuples.pt')"
   ]
  },
  {
   "cell_type": "code",
   "execution_count": null,
   "metadata": {},
   "outputs": [],
   "source": []
  }
 ],
 "metadata": {
  "kernelspec": {
   "display_name": "Python 3",
   "language": "python",
   "name": "python3"
  },
  "language_info": {
   "codemirror_mode": {
    "name": "ipython",
    "version": 3
   },
   "file_extension": ".py",
   "mimetype": "text/x-python",
   "name": "python",
   "nbconvert_exporter": "python",
   "pygments_lexer": "ipython3",
   "version": "3.8.2"
  }
 },
 "nbformat": 4,
 "nbformat_minor": 4
}
