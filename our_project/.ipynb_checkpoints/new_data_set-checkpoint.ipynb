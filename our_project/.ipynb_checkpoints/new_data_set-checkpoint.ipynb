{
 "cells": [
  {
   "cell_type": "code",
   "execution_count": 98,
   "metadata": {},
   "outputs": [],
   "source": [
    "from PIL import Image\n",
    "from PIL import ImageOps\n",
    "import numpy as np\n",
    "import tarfile\n",
    "import os\n",
    "import random\n",
    "\n",
    "import torch\n",
    "from torch.utils.data import TensorDataset\n",
    "from torchvision import transforms"
   ]
  },
  {
   "cell_type": "code",
   "execution_count": 16,
   "metadata": {},
   "outputs": [],
   "source": [
    "data_base_path = os.path.join(os.pardir, 'data')\n",
    "data_folder = 'lab-03-data'\n",
    "tar_path = os.path.join(data_base_path, data_folder + '.tar.gz')\n",
    "with tarfile.open(tar_path, mode='r:gz') as tar:\n",
    "    tar.extractall(path=data_base_path)"
   ]
  },
  {
   "cell_type": "code",
   "execution_count": 17,
   "metadata": {},
   "outputs": [],
   "source": [
    "import gzip\n",
    "import numpy as np\n",
    "import matplotlib.pyplot as plt\n",
    "\n",
    "def extract_data(filename, image_shape, image_number):\n",
    "    with gzip.open(filename) as bytestream:\n",
    "        bytestream.read(16)\n",
    "        buf = bytestream.read(np.prod(image_shape) * image_number)\n",
    "        data = np.frombuffer(buf, dtype=np.uint8)#.astype(np.float32)\n",
    "        data = data.reshape(image_number, image_shape[0], image_shape[1])\n",
    "    return data\n",
    "\n",
    "\n",
    "def extract_labels(filename, image_number):\n",
    "    with gzip.open(filename) as bytestream:\n",
    "        bytestream.read(8)\n",
    "        buf = bytestream.read(1 * image_number)\n",
    "        labels = np.frombuffer(buf, dtype=np.uint8).astype(np.uint8)\n",
    "    return labels"
   ]
  },
  {
   "cell_type": "code",
   "execution_count": 18,
   "metadata": {},
   "outputs": [],
   "source": [
    "image_shape = (28, 28)\n",
    "train_set_size = 60000\n",
    "test_set_size = 10000\n",
    "\n",
    "data_part2_folder = os.path.join(data_base_path, data_folder, 'part2')\n",
    "\n",
    "train_images_path = os.path.join(data_part2_folder, 'train-images-idx3-ubyte.gz')\n",
    "train_labels_path = os.path.join(data_part2_folder, 'train-labels-idx1-ubyte.gz')\n",
    "test_images_path = os.path.join(data_part2_folder, 't10k-images-idx3-ubyte.gz')\n",
    "test_labels_path = os.path.join(data_part2_folder, 't10k-labels-idx1-ubyte.gz')\n",
    "\n",
    "train_images = extract_data(train_images_path, image_shape, train_set_size) \n",
    "test_images = extract_data(test_images_path, image_shape, test_set_size)\n",
    "train_labels = extract_labels(train_labels_path, train_set_size)\n",
    "test_labels = extract_labels(test_labels_path, test_set_size)\n",
    "\n",
    "\n",
    "# # Divide by 255.\n",
    "# train_images = train_images / 255.\n",
    "# test_images = test_images / 255.\n",
    "\n",
    "# # Select only 10000\n",
    "# train_images = train_images[:60000]\n",
    "# train_labels = train_labels[:60000]\n",
    "# test_images = test_images[:10000]\n",
    "# test_labels = test_labels[:10000]\n",
    "\n",
    "# # Preprocessing\n",
    "# train_images_p = preprocess_images(train_images[:10000])\n",
    "# test_images_p = preprocess_images(test_images)"
   ]
  },
  {
   "cell_type": "code",
   "execution_count": 19,
   "metadata": {},
   "outputs": [],
   "source": [
    "train_original, test_original = list(zip(train_images, train_labels)), list(zip(test_images, test_labels))"
   ]
  },
  {
   "cell_type": "code",
   "execution_count": 20,
   "metadata": {},
   "outputs": [
    {
     "name": "stdout",
     "output_type": "stream",
     "text": [
      "<class 'list'>\n",
      "<class 'tuple'>\n",
      "<class 'numpy.ndarray'>\n",
      "<class 'numpy.uint8'>\n"
     ]
    }
   ],
   "source": [
    "print(type(train_original))\n",
    "print(type(train_original[0]))\n",
    "print(type(train_original[0][0]))\n",
    "print(type(train_original[0][1]))\n",
    "# print(train_original[0])\n",
    "\n"
   ]
  },
  {
   "cell_type": "code",
   "execution_count": 21,
   "metadata": {},
   "outputs": [],
   "source": [
    "PATH = './my_mnist/'"
   ]
  },
  {
   "cell_type": "code",
   "execution_count": 22,
   "metadata": {},
   "outputs": [],
   "source": [
    "new_imgs = []\n",
    "for i in range(92,99,1):\n",
    "    im = Image.open(PATH + 'IMG_00' + str(i) + '.PNG')\n",
    "    im = ImageOps.grayscale(im)\n",
    "    im = ImageOps.invert(im)\n",
    "    im = im.resize((280,280))\n",
    "    im_array = np.array(im)\n",
    "\n",
    "    for i in range(10):\n",
    "        for j in range(10):\n",
    "            new_imgs.append((im_array[28*i:28*(i+1),28*j:28*(j+1)], np.uint8(i)))\n",
    "            "
   ]
  },
  {
   "cell_type": "code",
   "execution_count": 23,
   "metadata": {},
   "outputs": [
    {
     "name": "stdout",
     "output_type": "stream",
     "text": [
      "700\n",
      "(28, 28)\n"
     ]
    }
   ],
   "source": [
    "print(len(new_imgs))\n",
    "print(new_imgs[0][0].shape)\n",
    "\n",
    "# for i in range(380,390):\n",
    "#     Image.fromarray(new_imgs[i][0]).show()"
   ]
  },
  {
   "cell_type": "code",
   "execution_count": 24,
   "metadata": {},
   "outputs": [
    {
     "name": "stdout",
     "output_type": "stream",
     "text": [
      "<class 'list'>\n",
      "<class 'tuple'>\n",
      "<class 'numpy.ndarray'>\n",
      "<class 'numpy.uint8'>\n"
     ]
    }
   ],
   "source": [
    "print(type(new_imgs))\n",
    "print(type(new_imgs[0]))\n",
    "print(type(new_imgs[0][0]))\n",
    "print(type(new_imgs[0][1]))\n",
    "# print(new_imgs[0])\n",
    "\n",
    "\n"
   ]
  },
  {
   "cell_type": "code",
   "execution_count": 36,
   "metadata": {},
   "outputs": [
    {
     "name": "stdout",
     "output_type": "stream",
     "text": [
      "10500\n"
     ]
    }
   ],
   "source": [
    "new_mnist = []\n",
    "for i in range(15):\n",
    "    new_mnist.extend(new_imgs)\n",
    "random.shuffle(new_mnist)\n",
    "    \n",
    "print(len(new_mnist))"
   ]
  },
  {
   "cell_type": "code",
   "execution_count": 51,
   "metadata": {},
   "outputs": [
    {
     "name": "stdout",
     "output_type": "stream",
     "text": [
      "70500\n"
     ]
    }
   ],
   "source": [
    "aug_mnist = []\n",
    "\n",
    "aug_mnist.extend(train_original)\n",
    "aug_mnist.extend(new_mnist)\n",
    "random.shuffle(aug_mnist)\n",
    "random.shuffle(aug_mnist)\n",
    "random.shuffle(aug_mnist)\n",
    "random.shuffle(aug_mnist)\n",
    "\n",
    "print(len(aug_mnist))"
   ]
  },
  {
   "cell_type": "code",
   "execution_count": 101,
   "metadata": {},
   "outputs": [
    {
     "name": "stdout",
     "output_type": "stream",
     "text": [
      "<class 'torch.Tensor'>\n",
      "<class 'torch.Tensor'>\n",
      "torch.Size([70500, 28, 28])\n",
      "torch.Size([70500])\n"
     ]
    }
   ],
   "source": [
    "aug_train = list(map(list,zip(*aug_mnist)))\n",
    "aug_x_train = np.array(aug_train[0][:])\n",
    "aug_y_train = np.array(aug_train[1][:])\n",
    "\n",
    "aug_x_train, aug_y_train = map(torch.tensor, (aug_x_train, aug_y_train))\n",
    "# aug_x_train = map(transforms.ToPILImage, aug_x_train)\n",
    "\n",
    "\n",
    "\n",
    "print(type(aug_x_train))\n",
    "print(type(aug_y_train))\n",
    "\n",
    "print(aug_x_train.shape)\n",
    "print(aug_y_train.shape)\n",
    "\n",
    "\n",
    "\n",
    "# print(aug_train[0][0:20])\n",
    "# print(aug_train[:20][1])"
   ]
  },
  {
   "cell_type": "code",
   "execution_count": 103,
   "metadata": {},
   "outputs": [],
   "source": [
    "train_ds = TensorDataset(aug_x_train, aug_y_train)\n",
    "torch.save(train_ds, 'my_nmist_list_tuples.pt')"
   ]
  },
  {
   "cell_type": "code",
   "execution_count": 81,
   "metadata": {},
   "outputs": [
    {
     "name": "stdout",
     "output_type": "stream",
     "text": [
      "[(1, 4), (2, 5), (3, 6)]\n",
      "[[1, 2, 3], [4, 5, 6]]\n",
      "[5, 6]\n",
      "[[1, 2, 3], [4, 5, 6]]\n"
     ]
    }
   ],
   "source": [
    "listA = [1,2,3]\n",
    "listB = [4,5,6]\n",
    "listC = list(zip(listA,listB))\n",
    "listD = list(map(list,zip(*listC)))\n",
    "\n",
    "print(listC)\n",
    "print(listD)\n",
    "print(listD[1][1:3])\n",
    "print(listD)"
   ]
  },
  {
   "cell_type": "code",
   "execution_count": 5,
   "metadata": {},
   "outputs": [],
   "source": [
    "# PATH2 = './opearators/IMG_0093.PNG'"
   ]
  },
  {
   "cell_type": "code",
   "execution_count": 11,
   "metadata": {},
   "outputs": [],
   "source": [
    "# im2 = Image.open(PATH2)\n",
    "# im2 = ImageOps.grayscale(im2)\n",
    "# im2 = ImageOps.invert(im2)\n",
    "# im2_array = np.array(im2)"
   ]
  },
  {
   "cell_type": "code",
   "execution_count": 12,
   "metadata": {},
   "outputs": [
    {
     "data": {
      "text/plain": [
       "(1736, 316)"
      ]
     },
     "execution_count": 12,
     "metadata": {},
     "output_type": "execute_result"
    }
   ],
   "source": [
    "# im2.show()\n",
    "# im2.size"
   ]
  },
  {
   "cell_type": "code",
   "execution_count": 15,
   "metadata": {},
   "outputs": [],
   "source": [
    "# operators_img = []\n",
    "# for i in range(5):\n",
    "#     operators_img.append(im2_array[:,347*i:347*(i+1)])"
   ]
  },
  {
   "cell_type": "code",
   "execution_count": 18,
   "metadata": {},
   "outputs": [
    {
     "name": "stdout",
     "output_type": "stream",
     "text": [
      "5\n",
      "(316, 347)\n"
     ]
    }
   ],
   "source": [
    "# print(len(operators_img))\n",
    "# print(operators_img[0].shape)\n",
    "\n",
    "# for i in range(5):\n",
    "#     Image.fromarray(operators_img[i]).show()"
   ]
  },
  {
   "cell_type": "code",
   "execution_count": 19,
   "metadata": {},
   "outputs": [
    {
     "name": "stdout",
     "output_type": "stream",
     "text": [
      "1735\n"
     ]
    }
   ],
   "source": [
    "# print(347*5)"
   ]
  },
  {
   "cell_type": "code",
   "execution_count": 10,
   "metadata": {},
   "outputs": [],
   "source": [
    "torch.save(new_imgs, 'my_nmist.pt')"
   ]
  },
  {
   "cell_type": "code",
   "execution_count": 2,
   "metadata": {},
   "outputs": [],
   "source": [
    "pedro = torch.load('my_nmist.pt')"
   ]
  },
  {
   "cell_type": "code",
   "execution_count": 3,
   "metadata": {},
   "outputs": [
    {
     "name": "stdout",
     "output_type": "stream",
     "text": [
      "<class 'list'>\n"
     ]
    }
   ],
   "source": [
    "print(type(pedro))"
   ]
  },
  {
   "cell_type": "code",
   "execution_count": 8,
   "metadata": {},
   "outputs": [],
   "source": [
    "Image.fromarray(pedro[279][0]).show()\n",
    "Image.fromarray(pedro[279][0]).show()"
   ]
  },
  {
   "cell_type": "code",
   "execution_count": null,
   "metadata": {},
   "outputs": [],
   "source": []
  }
 ],
 "metadata": {
  "kernelspec": {
   "display_name": "Python 3",
   "language": "python",
   "name": "python3"
  },
  "language_info": {
   "codemirror_mode": {
    "name": "ipython",
    "version": 3
   },
   "file_extension": ".py",
   "mimetype": "text/x-python",
   "name": "python",
   "nbconvert_exporter": "python",
   "pygments_lexer": "ipython3",
   "version": "3.8.2"
  }
 },
 "nbformat": 4,
 "nbformat_minor": 4
}
